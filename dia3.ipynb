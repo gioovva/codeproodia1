{
 "cells": [
  {
   "cell_type": "markdown",
   "id": "345b85f3",
   "metadata": {},
   "source": [
    "Challenge 1 🤺 - 10m\n",
    "Crear una función que imprima la variable palabra."
   ]
  },
  {
   "cell_type": "code",
   "execution_count": 8,
   "id": "71338c41",
   "metadata": {},
   "outputs": [
    {
     "name": "stdout",
     "output_type": "stream",
     "text": [
      "hola\n"
     ]
    }
   ],
   "source": [
    "palabra = \"hola\"\n",
    "def var_palabra():\n",
    "    print (palabra)\n",
    "var_palabra()"
   ]
  },
  {
   "cell_type": "markdown",
   "id": "2299e9d5",
   "metadata": {},
   "source": [
    "Challenge 2 🤺 - 20 min\n",
    "Crear una función que reciba dos letras (parámetros) y que verifique si son iguales:\n",
    "\n",
    "Si son iguales, imprimir \"Las letras son iguales\".\n",
    "\n",
    "De lo contrario, imprimir \"Las letras son diferentes\"."
   ]
  },
  {
   "cell_type": "code",
   "execution_count": 31,
   "id": "1295aece",
   "metadata": {},
   "outputs": [
    {
     "name": "stdout",
     "output_type": "stream",
     "text": [
      "son diferentes\n"
     ]
    }
   ],
   "source": [
    "\n",
    "def letra_recibida(letra1, letra2):\n",
    "\n",
    "    if letra1 == letra2:\n",
    "       print(\"son iguales\")\n",
    "    else:\n",
    "       print(\"son diferentes\")\n",
    "letra_recibida(\"a\", \"b\")\n",
    "    \n",
    "\n",
    "\n",
    "\n",
    "    "
   ]
  },
  {
   "cell_type": "markdown",
   "id": "472491fe",
   "metadata": {},
   "source": [
    "Challenge 3 🤺 - 20m\n",
    "Crear una función que reciba dos parámetros (una palabra y un número), y que retorne True si el número es igual a la cantidad de letras de la palabra. En caso contrario, que retorne False.\n",
    "\n",
    "Pista: cantidad de letras de una palabra en python"
   ]
  },
  {
   "cell_type": "code",
   "execution_count": 41,
   "id": "b57c2caa",
   "metadata": {},
   "outputs": [
    {
     "data": {
      "text/plain": [
       "False"
      ]
     },
     "execution_count": 41,
     "metadata": {},
     "output_type": "execute_result"
    }
   ],
   "source": [
    "def palabra_y_numero(palabra, numero):\n",
    "    if len(palabra) == numero:\n",
    "        return True\n",
    "    else:\n",
    "        return False\n",
    "palabra_y_numero(\"hola\", 5)\n",
    "\n"
   ]
  },
  {
   "cell_type": "markdown",
   "id": "897d96fa",
   "metadata": {},
   "source": [
    "Challenge 5 🤺 - 25m\n",
    "Pedir al usuario que ingrese 1 palabra, luego convertir esa palabra a una lista con sus caracteres con list(). Agregar esa lista de caracteres a una lista llamada palabras_ingresadas. Repetir el proceso 3 veces. Cada vez que se agregue una lista de caracteres, imprimir la lista palabras_ingresadas.\n",
    "\n",
    "\n",
    "Ejemplo del resultado esperado:\n",
    "\n",
    "[['c', 'i', 'e', 'l', 'o']]\n",
    " # Al ingresar la primera palabra\n",
    "\n",
    "[['c', 'i', 'e', 'l', 'o'], ['c', 'a', 'l', 'o', 'r']]\n",
    " # Al ingresar la segunda palabra\n",
    "\n",
    "[['c', 'i', 'e', 'l', 'o'], ['c', 'a', 'l', 'o', 'r'], ['n', 'u', 'b', 'e', 's']]\n",
    " # Al ingresar la tercera palabra"
   ]
  },
  {
   "cell_type": "code",
   "execution_count": null,
   "id": "5d9d4a9f",
   "metadata": {},
   "outputs": [
    {
     "name": "stdout",
     "output_type": "stream",
     "text": [
      "['h', 'o', 'l', 'a']\n",
      "\n"
     ]
    }
   ],
   "source": [
    "#pedir al usuario que ingrese una plabra\n",
    "palabra_a_ingresar = input(\"escribe una palabra\")\n",
    "#convertir esa palabra a una lista con sus caracteres con list()\n",
    "lista_de_palabra_ingresada = list(palabra_a_ingresar)\n",
    "print(lista_de_palabra_ingresada)\n",
    "\n",
    "#agregar esa lista de caracteres a una lista llamada palabras_ingresadas\n",
    "palabras_ingresdas = lista_de_palabra_ingresada\n",
    "print()\n",
    "#repeir el proceso 3 veces\n",
    "#cada vez que se agregue una lista de caracteres, imprimir la lista palabras_ingresdas"
   ]
  },
  {
   "cell_type": "code",
   "execution_count": null,
   "id": "2c5f344e",
   "metadata": {},
   "outputs": [
    {
     "name": "stdout",
     "output_type": "stream",
     "text": [
      "[['h', 'o', 'l', 'a']]\n",
      "[['h', 'o', 'l', 'a'], ['c', 'h', 'a', 'u']]\n",
      "[['h', 'o', 'l', 'a'], ['c', 'h', 'a', 'u'], ['d', 'e', ' ', 'n', 'u', 'e', 'v', 'o']]\n"
     ]
    }
   ],
   "source": [
    "palabras_ingresadas = []\n",
    "\n",
    "def palabras():\n",
    " palabra_a_ingresar = input(\"escribe una palabra\")\n",
    " \n",
    " lista_de_palabra_ingresada = list(palabra_a_ingresar)\n",
    " \n",
    " palabras_ingresadas.append(lista_de_palabra_ingresada)\n",
    " print(palabras_ingresadas)\n",
    "\n",
    "palabras()\n",
    "palabras()\n",
    "palabras()\n",
    "\n"
   ]
  },
  {
   "cell_type": "markdown",
   "id": "36b359d9",
   "metadata": {},
   "source": [
    "Challenge 6 🤺 - 25m\n",
    "Dada la lista de ejemplo: \n",
    "\n",
    "lista = [['h', 'o', 'l', 'i', 's'], ['h', 'e', 'l', 'l', 'o'], ['h', 'a', 'l', 'l', 'o']]\n",
    "\n",
    "Crear una función que imprima una grilla (lista de listas), una línea por cada lista dentro de la lista principal.\n",
    "\n",
    "Ejemplo del resultado esperado:\n",
    "\n",
    "['h', 'o', 'l', 'i', 's']\n",
    "['h', 'e', 'l', 'l', 'o']\n",
    "['h', 'a', 'l', 'l', 'o']"
   ]
  },
  {
   "cell_type": "code",
   "execution_count": 69,
   "id": "67a07d23",
   "metadata": {},
   "outputs": [
    {
     "name": "stdout",
     "output_type": "stream",
     "text": [
      "['h', 'o', 'l', 'i', 's']\n",
      "['h', 'e', 'l', 'l', 'o']\n",
      "['h', 'a', 'l', 'l', 'o']\n"
     ]
    }
   ],
   "source": [
    "listas = [['h', 'o', 'l', 'i', 's'], ['h', 'e', 'l', 'l', 'o'], ['h', 'a', 'l', 'l', 'o']]\n",
    "for imprimir in listas:\n",
    "  print(imprimir)\n"
   ]
  },
  {
   "cell_type": "markdown",
   "id": "7f5abd66",
   "metadata": {},
   "source": [
    "#CREANDO WORDLE "
   ]
  },
  {
   "cell_type": "code",
   "execution_count": null,
   "id": "d4517005",
   "metadata": {},
   "outputs": [],
   "source": [
    "ingreso_de_palabra = input()\n",
    "\n",
    "\n",
    "\n",
    "\n",
    "\n",
    "\n",
    "\n",
    "\n",
    "\n",
    "\n",
    "\n",
    "\n",
    "\n"
   ]
  }
 ],
 "metadata": {
  "kernelspec": {
   "display_name": "Python 3",
   "language": "python",
   "name": "python3"
  },
  "language_info": {
   "codemirror_mode": {
    "name": "ipython",
    "version": 3
   },
   "file_extension": ".py",
   "mimetype": "text/x-python",
   "name": "python",
   "nbconvert_exporter": "python",
   "pygments_lexer": "ipython3",
   "version": "3.13.3"
  }
 },
 "nbformat": 4,
 "nbformat_minor": 5
}
