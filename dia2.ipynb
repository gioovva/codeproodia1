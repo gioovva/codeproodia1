{
 "cells": [
  {
   "cell_type": "code",
   "execution_count": 14,
   "id": "593ead09",
   "metadata": {},
   "outputs": [
    {
     "name": "stdout",
     "output_type": "stream",
     "text": [
      "juguito nomas\n"
     ]
    }
   ],
   "source": [
    "# CHALLENGE 1 DIA 2\n",
    "\n",
    "#Escribe un programa que pregunte al usuario por su edad y determine si tiene edad suficiente para comprar y consumir alcohol.\n",
    "#Si el usuario tiene mas de 18 pero menos de 21 impirmir \"Podes tomar pero no comprar\"\n",
    "#Si el usuario tiene menos de 18 imprimir \"Juguito nomas\"\n",
    "#Si el usuario tiene mas de 21 imprimir \"Hace lo que quieras\n",
    "\n",
    "\n",
    "\n",
    "edad_ingresada = int(input(\"ingrese su edad\"))\n",
    "# Si edad es mayor a 18 pero menos de 21 entonces puede tomar\n",
    "if edad_ingresada < 18 :\n",
    "    print(\"juguito nomas\")\n",
    "\n",
    "elif edad_ingresada < 21 :\n",
    "    print(\"hace lo que quieras\")\n",
    "\n",
    "else:\n",
    "    print(\"podes tomar pero no comprar\")\n",
    "\n",
    "\n",
    "\n",
    "\n",
    "\n",
    "\n"
   ]
  },
  {
   "cell_type": "code",
   "execution_count": null,
   "id": "0fd9a110",
   "metadata": {},
   "outputs": [
    {
     "name": "stdout",
     "output_type": "stream",
     "text": [
      "la temperatura es de 10 grados celsius\n",
      "fresquete\n"
     ]
    }
   ],
   "source": [
    "#Escribir un programa en el que se pregunte al usuario por una temperatura (en grados Celsius), imprima la temperatura escrita, y luego clasificar la temperatura ingresada en los siguientes niveles:\n",
    "#Entre -10 y 18 grados, que imprima \"Fresquete\".\n",
    "#Entre 19 y 30 grados, que imprima \"Calor'i\".\n",
    "#Entre 31 y 45 grados, que imprima \"Hakuuuuuu\".\n",
    "#Para todo lo demás, imprimir \"Ñamano mba'e!\".\n",
    "\n",
    "\n",
    "\n",
    "\n",
    "\n",
    "temperatura = int(input(\"ingrese temperatura\"))\n",
    "print(f\"la temperatura es de {temperatura} grados celsius\")\n",
    "\n",
    "# si la temperatura esta entre -10 y 18 grados que imprima fresquete\n",
    "\n",
    "if temperatura >= -10 and temperatura <= 18:\n",
    "   \n",
    "    print(\"fresquete\")\n",
    "\n",
    "elif temperatura >= 19 and temperatura <= 30:\n",
    "    \n",
    "    print(\"calor'i\")\n",
    "\n",
    "elif temperatura >= 31 and temperatura <= 45:\n",
    "    \n",
    "    print(\"hakuu\")\n",
    "\n",
    "else:\n",
    "    \n",
    "    print(\"ñamano mba'e\")\n",
    "\n",
    "\n",
    "\n",
    "       "
   ]
  },
  {
   "cell_type": "markdown",
   "id": "385c34db",
   "metadata": {},
   "source": [
    "   Challenge 🤺 - 20m\n",
    "Escribir un programa que almacene una contraseña en una variable, y pregunte al usuario por la contraseña hasta que introduzca la contraseña correcta.\n",
    "\n",
    "Cuando el usuario ingrese la contrasena correcta, imprimir un mensaje secreto.\n"
   ]
  },
  {
   "cell_type": "code",
   "execution_count": 6,
   "id": "3a2f9440",
   "metadata": {},
   "outputs": [
    {
     "name": "stdout",
     "output_type": "stream",
     "text": [
      "contaseña incorrecta\n",
      "contaseña incorrecta\n",
      "la contraseña es correcta\n"
     ]
    }
   ],
   "source": [
    "contraseña = \"hola\"\n",
    "\n",
    "while True:\n",
    "    contraseña_introducida = input(\"introduce la contaseña\")\n",
    "    if contraseña_introducida == contraseña:\n",
    "        print(\"la contraseña es correcta\")\n",
    "        break \n",
    "    else:\n",
    "        print(\"contaseña incorrecta\")   \n",
    "    \n",
    "    \n",
    "\n",
    "\n"
   ]
  },
  {
   "cell_type": "markdown",
   "id": "ec2f3caa",
   "metadata": {},
   "source": [
    "Challenge 🤺 - 20m\n",
    "Crear una lista de 5 elementos. Luego, seguir los siguientes pasos.\n",
    "\n",
    "Agregar un elemento al final de la lista.\n",
    "\n",
    "Modificar el segundo elemento.\n",
    "\n",
    "Eliminar el tercer elemento."
   ]
  },
  {
   "cell_type": "code",
   "execution_count": 21,
   "id": "ce7fbcd4",
   "metadata": {},
   "outputs": [
    {
     "name": "stdout",
     "output_type": "stream",
     "text": [
      "['rojo', 'naranja', 'verde', 'amarillo', 'gris', 'negro']\n",
      "['rojo', 'lila', 'verde', 'amarillo', 'gris', 'negro']\n",
      "['rojo', 'lila', 'amarillo', 'gris', 'negro']\n"
     ]
    }
   ],
   "source": [
    "lista_colores = [\"rojo\", \"naranja\", \"verde\", \"amarillo\", \"gris\"]\n",
    "\n",
    "lista_colores.append (\"negro\")\n",
    "print(lista_colores)\n",
    "\n",
    "lista_colores[1] = \"lila\"\n",
    "print(lista_colores)\n",
    "\n",
    "lista_colores.pop(2)\n",
    "print(lista_colores)"
   ]
  },
  {
   "cell_type": "markdown",
   "id": "20d8def8",
   "metadata": {},
   "source": [
    "Challenge 🤺 - 20m\n",
    "Escribir un programa que itere en un rango de 10 veces. Por cada iteracion multiplicar el iterador por dos e imprimir el resultado."
   ]
  },
  {
   "cell_type": "code",
   "execution_count": 43,
   "id": "a9ea6ddc",
   "metadata": {},
   "outputs": [
    {
     "name": "stdout",
     "output_type": "stream",
     "text": [
      "2\n",
      "4\n",
      "6\n",
      "8\n",
      "10\n",
      "12\n",
      "14\n",
      "16\n",
      "18\n",
      "20\n"
     ]
    }
   ],
   "source": [
    "numeros = [1, 2, 3, 4, 5, 6, 7, 8, 9, 10]\n",
    "for i in numeros:\n",
    "    numeromulti = i * 2\n",
    "    print(numeromulti)\n",
    "       \n",
    "    "
   ]
  },
  {
   "cell_type": "markdown",
   "id": "19cb78bb",
   "metadata": {},
   "source": [
    "Challenge 🤺 - 20m\n",
    "Recorrer los elementos de una lista de marcas e imprimir cada marca solamente si tiene 6 letras o más."
   ]
  },
  {
   "cell_type": "code",
   "execution_count": null,
   "id": "50fad6f1",
   "metadata": {},
   "outputs": [
    {
     "name": "stdout",
     "output_type": "stream",
     "text": [
      "adidas\n",
      "supreme\n"
     ]
    }
   ],
   "source": [
    "marcas = [\"nike\", \"adidas\", \"puma\", \"supreme\", \"vans\"]\n",
    "\n",
    "for marca in marcas:\n",
    "    \n",
    "    if (len(marca)) >= 6:\n",
    "        \n",
    "        print(marca)"
   ]
  },
  {
   "cell_type": "markdown",
   "id": "b4a9ef73",
   "metadata": {},
   "source": [
    "Challenge 🤺 - 15m\n",
    "Solicitar al usuario que ingrese una frase.\n",
    "\n",
    "Imprimir un mensaje cada vez que se encuentre una letra \"o\"."
   ]
  },
  {
   "cell_type": "code",
   "execution_count": 65,
   "id": "7deecfe6",
   "metadata": {},
   "outputs": [
    {
     "name": "stdout",
     "output_type": "stream",
     "text": [
      "contiene o\n"
     ]
    }
   ],
   "source": [
    "frase = input(\"ingrese una frase\")\n",
    "for letra in frase:\n",
    "    if letra == \"o\":\n",
    "        print(\"contiene o\")\n",
    "    \n",
    "    \n",
    "    "
   ]
  }
 ],
 "metadata": {
  "kernelspec": {
   "display_name": "Python 3",
   "language": "python",
   "name": "python3"
  },
  "language_info": {
   "codemirror_mode": {
    "name": "ipython",
    "version": 3
   },
   "file_extension": ".py",
   "mimetype": "text/x-python",
   "name": "python",
   "nbconvert_exporter": "python",
   "pygments_lexer": "ipython3",
   "version": "3.13.3"
  }
 },
 "nbformat": 4,
 "nbformat_minor": 5
}
