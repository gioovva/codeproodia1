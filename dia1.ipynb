{
 "cells": [
  {
   "cell_type": "code",
   "execution_count": 85,
   "id": "6fbb512c",
   "metadata": {},
   "outputs": [
    {
     "name": "stdout",
     "output_type": "stream",
     "text": [
      "hola mundo\n"
     ]
    }
   ],
   "source": [
    "print(\"hola mundo\")"
   ]
  },
  {
   "cell_type": "code",
   "execution_count": 86,
   "id": "4d400790",
   "metadata": {},
   "outputs": [
    {
     "name": "stdout",
     "output_type": "stream",
     "text": [
      "la cantidad de frutas es de: 9\n",
      "la cantidad de frutas restantes son: 4\n"
     ]
    }
   ],
   "source": [
    "#CHALLENGE 1\n",
    "\n",
    "# suma\n",
    "\n",
    "cantidad_de_manzanas = 5\n",
    "cantidad_de_naranjas = 4\n",
    "cantidad_de_frutas = cantidad_de_manzanas + cantidad_de_naranjas\n",
    "\n",
    "print(\"la cantidad de frutas es de:\",cantidad_de_frutas)\n",
    "\n",
    "# resta\n",
    "\n",
    "frutas_vendidas = 5 \n",
    "frutas_restantes = cantidad_de_frutas - frutas_vendidas\n",
    "\n",
    "print(\"la cantidad de frutas restantes son:\",frutas_restantes)\n",
    "\n",
    "\n"
   ]
  },
  {
   "cell_type": "code",
   "execution_count": 87,
   "id": "d13c7235",
   "metadata": {},
   "outputs": [
    {
     "name": "stdout",
     "output_type": "stream",
     "text": [
      "hola, me llamo emanuel cabello mucho gusto.\n",
      "hola, me llamo emanuel cabello mucho gusto.\n"
     ]
    }
   ],
   "source": [
    "# CHALLENGE 2\n",
    "\n",
    "nombre = \"emanuel\"\n",
    "\n",
    "apellido = \"cabello\"\n",
    "\n",
    "print(f\"hola, me llamo {nombre} {apellido} mucho gusto.\")\n",
    "\n",
    "print(\"hola, me llamo\", nombre + \" \" + apellido,\"mucho gusto.\")"
   ]
  },
  {
   "cell_type": "code",
   "execution_count": 89,
   "id": "8684e050",
   "metadata": {},
   "outputs": [
    {
     "name": "stdout",
     "output_type": "stream",
     "text": [
      "4\n"
     ]
    }
   ],
   "source": [
    "# CHALLENGE 3\n",
    "\n",
    "numero1 = input (\"ingrese un numero\")\n",
    "\n",
    "numero2 = input (\"ingrese un numero\")\n",
    "\n",
    "suma = int(numero1) + int(numero2) \n",
    "\n",
    "print(suma)\n"
   ]
  },
  {
   "cell_type": "code",
   "execution_count": 90,
   "id": "d27724c8",
   "metadata": {},
   "outputs": [
    {
     "name": "stdout",
     "output_type": "stream",
     "text": [
      "500 gramos de almidón de mandioca\n",
      "250 gramos de queso medio cremoso\n",
      "200 gramos de mantequilla o margarina\n",
      "1 cucharada de sal\n",
      "500 gramos de almidón de mandioca\n",
      "250 gramos de queso medio cremoso\n",
      "200 gramos de mantequilla o margarina\n",
      "1 cucharada de sal\n",
      "500 gramos de almidón de mandioca\n",
      "250 gramos de queso medio cremoso\n",
      "200 gramos de mantequilla o margarina\n",
      "1 cucharada de sal\n"
     ]
    }
   ],
   "source": [
    "# CHALLENGE 4 \n",
    "\n",
    "def ingredientes_mbeju():\n",
    "    print(\"500 gramos de almidón de mandioca\")\n",
    "    print(\"250 gramos de queso medio cremoso\")\n",
    "    print(\"200 gramos de mantequilla o margarina\")\n",
    "    print(\"1 cucharada de sal\")\n",
    "\n",
    "ingredientes_mbeju()   \n",
    "\n",
    "ingredientes_mbeju()\n",
    "\n",
    "ingredientes_mbeju()\n",
    "\n",
    "\n",
    "     \n",
    "    "
   ]
  },
  {
   "cell_type": "code",
   "execution_count": null,
   "id": "5c62df76",
   "metadata": {},
   "outputs": [
    {
     "name": "stdout",
     "output_type": "stream",
     "text": [
      "placa madre: asrock a 520m pro4\n",
      "procesador: AMD ryzeen 5 5600G 4.4 GHz\n",
      "16GB de RAM\n",
      "Almacenamiento: SSD M.2 NVMe 1tb wd\n"
     ]
    }
   ],
   "source": [
    "# CHALLENGE 5\n",
    "\n",
    "def compra_pc(caracteristicas):\n",
    "    print(\"placa madre: asrock a 520m pro4\")\n",
    "    print(\"procesador: AMD ryzeen 5 5600G 4.4 GHz\")\n",
    "    print(caracteristicas)\n",
    "    print(\"Almacenamiento: SSD M.2 NVMe 1tb wd\")\n",
    "\n",
    "compra_pc(\"16GB de RAM\")"
   ]
  }
 ],
 "metadata": {
  "kernelspec": {
   "display_name": "Python 3",
   "language": "python",
   "name": "python3"
  },
  "language_info": {
   "codemirror_mode": {
    "name": "ipython",
    "version": 3
   },
   "file_extension": ".py",
   "mimetype": "text/x-python",
   "name": "python",
   "nbconvert_exporter": "python",
   "pygments_lexer": "ipython3",
   "version": "3.13.3"
  }
 },
 "nbformat": 4,
 "nbformat_minor": 5
}
