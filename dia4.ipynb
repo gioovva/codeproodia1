{
 "cells": [
  {
   "cell_type": "markdown",
   "id": "863a37e3",
   "metadata": {},
   "source": [
    "Challenge 1 🤺\n",
    "Escribir un programa que cree un diccionario vacío y lo vaya llenado con información sobre una persona (por ejemplo nombre, edad, sexo, teléfono, correo electrónico, etc.) que se le pida al usuario. Cada vez que se añada un nuevo dato debe imprimirse el contenido del diccionario.\n"
   ]
  },
  {
   "cell_type": "code",
   "execution_count": null,
   "id": "7bcd3a27",
   "metadata": {},
   "outputs": [
    {
     "name": "stdout",
     "output_type": "stream",
     "text": [
      "{'nombre': 'carlos'}\n",
      "{'nombre': 'carlos', 'edad': 19}\n",
      "{'nombre': 'carlos', 'edad': 19, 'sexo': 'masculino'}\n",
      "{'nombre': 'carlos', 'edad': 19, 'sexo': 'masculino', 'telefono': 89998}\n",
      "{'nombre': 'carlos', 'edad': 19, 'sexo': 'masculino', 'telefono': 89998, 'correo electronico': 'ekjbkjbj'}\n"
     ]
    }
   ],
   "source": [
    "datos_de_la_persona = {}\n",
    "\n",
    "nombre = input(\"ingrese un nombre\")\n",
    "datos_de_la_persona[\"nombre\"] = nombre\n",
    "print(datos_de_la_persona)\n",
    "\n",
    "\n",
    "edad = int(input(\"ingrese tu edad\"))\n",
    "datos_de_la_persona[\"edad\"] = edad\n",
    "print(datos_de_la_persona)\n",
    "\n",
    "sexo = input(\"ingrese su sexo\")\n",
    "datos_de_la_persona[\"sexo\"] = sexo\n",
    "print(datos_de_la_persona)\n",
    "\n",
    "telefono = int(input(\"ingrese su numero de telefono\"))\n",
    "datos_de_la_persona[\"telefono\"] = telefono\n",
    "print(datos_de_la_persona)\n",
    "\n",
    "correo_electronico = input(\"ingrese un correo\")\n",
    "datos_de_la_persona[\"correo electronico\"] = correo_electronico\n",
    "print(datos_de_la_persona)\n"
   ]
  },
  {
   "cell_type": "markdown",
   "id": "43ef89dc",
   "metadata": {},
   "source": [
    "Challenge 2 🤺\n",
    "Crear una tarjeta personal. El usuario (mediante input) puede elegir:\n",
    "\n",
    "Crear datos nuevos,\n",
    "Modificar datos,\n",
    "Eliminar datos\n"
   ]
  },
  {
   "cell_type": "code",
   "execution_count": 19,
   "id": "707f3ad3",
   "metadata": {},
   "outputs": [],
   "source": [
    "tarjeta_personal = {\"nombre\": \"carlos\", \"apellido\": \"duarte\",   \"edad\": 20}\n",
    "datos_a_cambiar = input(\"que desea realizar crear, modificar o eliminar\")\n",
    "if datos_a_cambiar == \"crear\":\n",
    "    dato_cambiados = input(\"ingrese el nuevo dato\")\n",
    "    tarjeta_personal[\"nuevo_dato\"] = dato_cambiados\n",
    "if datos_a_cambiar == \"modificar\":\n",
    "    datos_a_modificar = input(\"que desea modificar\")\n",
    "    if datos_a_modificar == \"nombre\":\n",
    "        nombre_nuevo = input(\"ingrese un nombre\")\n",
    "        tarjeta_personal[\"nombre\"] = nombre_nuevo\n",
    "        \n",
    "\n",
    "\n"
   ]
  },
  {
   "cell_type": "markdown",
   "id": "227865b2",
   "metadata": {},
   "source": [
    "Challenge 3 🤺\n",
    "Crear una agenda de contactos. El usuario puede elegir:\n",
    "\n",
    "Mostrar los contactos, \n",
    "Crear contacto,\n",
    "Modificar datos del contacto"
   ]
  },
  {
   "cell_type": "code",
   "execution_count": null,
   "id": "460b5c8b",
   "metadata": {},
   "outputs": [],
   "source": [
    "contacto1 = {\"nombre\": \"luis\", \"numero\": 9992222}\n",
    "contacto2 = {\"nombre\": \"joel\", \"numero\": 9998889}\n",
    "contacto3 = {\"nombre\": \"wilson\", \"numero\": 999999}\n",
    "contactos = {\"wilson\": contacto1, \"joel\": contacto2, \"wilson\": contacto3}\n",
    "\n",
    "\n",
    "accion_a_realizar = input(\"1. mostrar contactos, 2. crear contacto, 3.modificar datos del contacto\")\n",
    "if accion_a_realizar == 1:\n",
    "    print(contactos)\n",
    "elif accion_a_realizar == 2:\n",
    "    \n",
    "    \n",
    "\n"
   ]
  },
  {
   "cell_type": "markdown",
   "id": "b0883e83",
   "metadata": {},
   "source": [
    "Challenge 🤺\n",
    "Crear dos métodos para nuestro animal y ejecutar, debe ser algo específico de ese animal.\n",
    "\n",
    "Ejemplo: \"Cuando hablo, digo X\".\n",
    "Ejemplo: \"Cuando me muevo, hago X\".\n"
   ]
  },
  {
   "cell_type": "code",
   "execution_count": 43,
   "id": "b72ff315",
   "metadata": {},
   "outputs": [
    {
     "name": "stdout",
     "output_type": "stream",
     "text": [
      "guau guau guau\n",
      "movimiento en circulos\n"
     ]
    }
   ],
   "source": [
    "class Perro:\n",
    " ##atributo de clases  \n",
    "   \n",
    "    ojos = 2\n",
    "    patas = 4\n",
    "    cola = 1\n",
    "    oreja = 2\n",
    "\n",
    "    ##atributo de instancias\n",
    "\n",
    "    def __init__(self, color, raza):\n",
    "        self.color = color\n",
    "        self.raza = raza\n",
    "\n",
    "    ##metodos : acciones que puede hacer nuestro objeto\n",
    "\n",
    "    def ladrar(self):\n",
    "        return(\"guau guau guau\")\n",
    "    def movimiento(self):\n",
    "        return(\"movimiento en circulos\")\n",
    "\n",
    "\n",
    "ronpe = Perro(\"marron\", \"husky\")\n",
    "\n",
    "print(ronpe.ladrar())\n",
    "print(ronpe.movimiento())\n",
    "\n",
    "\n",
    "\n",
    "        \n",
    "\n",
    "     \n",
    "\n",
    "        \n",
    "\n",
    "    \n",
    "\n",
    "\n"
   ]
  },
  {
   "cell_type": "markdown",
   "id": "f1bfda06",
   "metadata": {},
   "source": [
    "Challenge 🤺\n",
    "Definir una clase madre que herede a sus clases hijas dos atributos de instancia. Mostrar ambos atributos en pantalla desde los objetos de las clases hijas.\n",
    "\n",
    "Observación: Editar las clases hijas para que no se inicialicen."
   ]
  },
  {
   "cell_type": "code",
   "execution_count": null,
   "id": "287cdd84",
   "metadata": {},
   "outputs": [
    {
     "name": "stdout",
     "output_type": "stream",
     "text": [
      "gris\n",
      "golden retriever\n"
     ]
    }
   ],
   "source": [
    "class Perra:\n",
    "   ##atributo de clases  \n",
    "    pata = 4\n",
    "    cola = 1\n",
    "    ojos = 2\n",
    "\n",
    "##atributo de instancias\n",
    "   \n",
    "    def __init__(self, color, raza):\n",
    "        self.color = color\n",
    "        self.raza = raza\n",
    "   \n",
    "   ##metodos : acciones que puede hacer nuestro objeto\n",
    "   \n",
    "    def ladrar(self):\n",
    "        return(\"guau guau guau\")\n",
    "    def movimiento(self):\n",
    "        return(\"vueltas en circulo\")\n",
    "    \n",
    "leica = Perra(\"blanco\", \"golden retriever\")\n",
    "\n",
    "\n",
    "class Perrita(Perra):\n",
    "   \n",
    "    ##metodos : acciones que puede hacer nuestro objeto\n",
    "   \n",
    "    boca = 1\n",
    "    uñas = 60\n",
    "  \n",
    "   ##atributo de instancias \n",
    "    \n",
    "    naty = Perrita(\"gris\", \"golden retriever\")\n",
    "    \n",
    "    print(naty.color,)\n",
    "    print(naty.raza)\n",
    "\n",
    "    \n",
    "    \n",
    "    \n",
    "\n",
    "    \n",
    "\n",
    "\n",
    "    \n",
    "        \n",
    "    \n",
    "    \n",
    "     "
   ]
  }
 ],
 "metadata": {
  "kernelspec": {
   "display_name": "Python 3",
   "language": "python",
   "name": "python3"
  },
  "language_info": {
   "codemirror_mode": {
    "name": "ipython",
    "version": 3
   },
   "file_extension": ".py",
   "mimetype": "text/x-python",
   "name": "python",
   "nbconvert_exporter": "python",
   "pygments_lexer": "ipython3",
   "version": "3.13.3"
  }
 },
 "nbformat": 4,
 "nbformat_minor": 5
}
